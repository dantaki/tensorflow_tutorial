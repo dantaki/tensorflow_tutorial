{
 "cells": [
  {
   "cell_type": "code",
   "execution_count": 1,
   "metadata": {
    "collapsed": true
   },
   "outputs": [],
   "source": [
    "import tensorflow as tf"
   ]
  },
  {
   "cell_type": "code",
   "execution_count": 2,
   "metadata": {},
   "outputs": [
    {
     "data": {
      "text/plain": [
       "'Deep Learning'"
      ]
     },
     "execution_count": 2,
     "metadata": {},
     "output_type": "execute_result"
    }
   ],
   "source": [
    "deep_learning = tf.constant('Deep Learning')\n",
    "session=tf.Session()\n",
    "session.run(deep_learning)\n"
   ]
  },
  {
   "cell_type": "code",
   "execution_count": 3,
   "metadata": {},
   "outputs": [
    {
     "data": {
      "text/plain": [
       "4"
      ]
     },
     "execution_count": 3,
     "metadata": {},
     "output_type": "execute_result"
    }
   ],
   "source": [
    "a=tf.constant(2)\n",
    "b=tf.constant(2)\n",
    "multiply=tf.multiply(a,b)\n",
    "session.run(multiply)"
   ]
  },
  {
   "cell_type": "code",
   "execution_count": 4,
   "metadata": {},
   "outputs": [
    {
     "data": {
      "text/plain": [
       "<tf.Variable 'weights:0' shape=(10, 10) dtype=float32_ref>"
      ]
     },
     "execution_count": 4,
     "metadata": {},
     "output_type": "execute_result"
    }
   ],
   "source": [
    "weights = tf.Variable(tf.random_normal([10,10],stddev=0.5),name='weights')\n",
    "weights"
   ]
  },
  {
   "cell_type": "code",
   "execution_count": 7,
   "metadata": {},
   "outputs": [
    {
     "ename": "ImportError",
     "evalue": "No module named read_data",
     "output_type": "error",
     "traceback": [
      "\u001b[0;31m---------------------------------------------------------------------------\u001b[0m",
      "\u001b[0;31mImportError\u001b[0m                               Traceback (most recent call last)",
      "\u001b[0;32m<ipython-input-7-97a5b78b22ae>\u001b[0m in \u001b[0;36m<module>\u001b[0;34m()\u001b[0m\n\u001b[0;32m----> 1\u001b[0;31m \u001b[0;32mfrom\u001b[0m \u001b[0mread_data\u001b[0m \u001b[0;32mimport\u001b[0m \u001b[0mget_minibatch\u001b[0m\u001b[0;34m\u001b[0m\u001b[0m\n\u001b[0m\u001b[1;32m      2\u001b[0m \u001b[0mx\u001b[0m \u001b[0;34m=\u001b[0m \u001b[0mtf\u001b[0m\u001b[0;34m.\u001b[0m\u001b[0mplaceholder\u001b[0m\u001b[0;34m(\u001b[0m\u001b[0mtf\u001b[0m\u001b[0;34m.\u001b[0m\u001b[0mfloat32\u001b[0m\u001b[0;34m,\u001b[0m\u001b[0mname\u001b[0m\u001b[0;34m=\u001b[0m\u001b[0;34m\"x\"\u001b[0m\u001b[0;34m,\u001b[0m\u001b[0mshape\u001b[0m\u001b[0;34m=\u001b[0m\u001b[0;34m[\u001b[0m\u001b[0mNone\u001b[0m\u001b[0;34m,\u001b[0m\u001b[0;36m784\u001b[0m\u001b[0;34m]\u001b[0m\u001b[0;34m)\u001b[0m\u001b[0;34m\u001b[0m\u001b[0m\n\u001b[1;32m      3\u001b[0m \u001b[0mW\u001b[0m \u001b[0;34m=\u001b[0m \u001b[0mtf\u001b[0m\u001b[0;34m.\u001b[0m\u001b[0mVariable\u001b[0m\u001b[0;34m(\u001b[0m\u001b[0mtf\u001b[0m\u001b[0;34m.\u001b[0m\u001b[0mrandom_uniform\u001b[0m\u001b[0;34m(\u001b[0m\u001b[0;34m[\u001b[0m\u001b[0;36m784\u001b[0m\u001b[0;34m,\u001b[0m\u001b[0;36m10\u001b[0m\u001b[0;34m]\u001b[0m\u001b[0;34m,\u001b[0m\u001b[0;34m-\u001b[0m\u001b[0;36m1\u001b[0m\u001b[0;34m,\u001b[0m\u001b[0;36m1\u001b[0m\u001b[0;34m)\u001b[0m\u001b[0;34m,\u001b[0m\u001b[0mname\u001b[0m\u001b[0;34m=\u001b[0m\u001b[0;34m'W'\u001b[0m\u001b[0;34m)\u001b[0m\u001b[0;34m\u001b[0m\u001b[0m\n\u001b[1;32m      4\u001b[0m \u001b[0mb\u001b[0m \u001b[0;34m=\u001b[0m \u001b[0mtf\u001b[0m\u001b[0;34m.\u001b[0m\u001b[0mVariable\u001b[0m\u001b[0;34m(\u001b[0m\u001b[0mtf\u001b[0m\u001b[0;34m.\u001b[0m\u001b[0mzeros\u001b[0m\u001b[0;34m(\u001b[0m\u001b[0;34m[\u001b[0m\u001b[0;36m10\u001b[0m\u001b[0;34m]\u001b[0m\u001b[0;34m)\u001b[0m\u001b[0;34m,\u001b[0m\u001b[0mname\u001b[0m\u001b[0;34m=\u001b[0m\u001b[0;34m'biases'\u001b[0m\u001b[0;34m)\u001b[0m\u001b[0;34m\u001b[0m\u001b[0m\n\u001b[1;32m      5\u001b[0m \u001b[0moutput\u001b[0m \u001b[0;34m=\u001b[0m \u001b[0mtf\u001b[0m\u001b[0;34m.\u001b[0m\u001b[0mmatmul\u001b[0m\u001b[0;34m(\u001b[0m\u001b[0mx\u001b[0m\u001b[0;34m,\u001b[0m\u001b[0mW\u001b[0m\u001b[0;34m)\u001b[0m\u001b[0;34m+\u001b[0m\u001b[0mb\u001b[0m\u001b[0;34m\u001b[0m\u001b[0m\n",
      "\u001b[0;31mImportError\u001b[0m: No module named read_data"
     ]
    }
   ],
   "source": [
    "from read_data import get_minibatch\n",
    "x = tf.placeholder(tf.float32,name=\"x\",shape=[None,784])\n",
    "W = tf.Variable(tf.random_uniform([784,10],-1,1),name='W')\n",
    "b = tf.Variable(tf.zeros([10]),name='biases')\n",
    "output = tf.matmul(x,W)+b\n",
    "\n",
    "init_op = tf.initialize_all_variables()\n",
    "\n",
    "sess=tf.Session()\n",
    "sess.run(init_op)\n",
    "feed_dict = {\"x\":get_minibatch()}\n",
    "sess.run(output,feed_dict=feed_dict)"
   ]
  },
  {
   "cell_type": "markdown",
   "metadata": {},
   "source": [
    "### MNIST logistic regression"
   ]
  },
  {
   "cell_type": "code",
   "execution_count": 1,
   "metadata": {
    "collapsed": true
   },
   "outputs": [],
   "source": [
    "import tensorflow as tf\n",
    "def inference(x):\n",
    "    \"\"\"produce a probability distribution over output classes\"\"\"\n",
    "    tf.constant_initializer(value=0)\n",
    "    W=tf.get_variable(\"W\",[784,10])#,initializer=init)\n",
    "    b=tf.get_variable('b',[10])#,initializer=init)\n",
    "    output=tf.nn.softmax(tf.matmul(x,W)+b)\n",
    "    return output\n",
    "def loss(output,y):\n",
    "    \"\"\"compute the value of the error function\"\"\"\n",
    "    dot_prod = y * tf.log(output)\n",
    "    xentropy=-tf.reduce_sum(dot_prod,reduction_indices=1)\n",
    "    \n",
    "    # Reduction along axis 0 collapses each column into a\n",
    "    # single value, whereas reduction along axis 1 collapses\n",
    "    # each row into a single value. In general, reduction along\n",
    "    # axis i collapses the ith dimension of a tensor to size 1.\n",
    "    xentropy = -tf.reduce_sum(dot_prod, reduction_indices=1)\n",
    "    \n",
    "    loss = tf.reduce_mean(xentropy)\n",
    "    return loss\n",
    "def training(cost,global_step):\n",
    "    \"\"\"compute the gradients of the\"\"\" \n",
    "    \"\"\"model's parameters and updating the model\"\"\"\n",
    "    # scalar summary statistic for the cost function\n",
    "    #log the cost of each minibatch,validation error, \n",
    "    #and the distribution of parameters\n",
    "    tf.summary.scalar(\"cost\", cost)\n",
    "    \n",
    "    optimizer = tf.train.GradientDescentOptimizer(learning_rate)\n",
    "    train_op = optimizer.minimize(cost,global_step=global_step)\n",
    "    return train_op\n",
    "def evaluate(output,y):\n",
    "    \"\"\"determine the effectiveness of a model\"\"\"\n",
    "    correct_prediction = tf.equal(tf.argmax(output,1),tf.argmax(y,1))\n",
    "    accuracy = tf.reduce_mean(tf.cast(correct_prediction,tf.float32))\n",
    "    return accuracy"
   ]
  },
  {
   "cell_type": "code",
   "execution_count": 3,
   "metadata": {},
   "outputs": [
    {
     "name": "stdout",
     "output_type": "stream",
     "text": [
      "Extracting MNIST_data/train-images-idx3-ubyte.gz\n",
      "Extracting MNIST_data/train-labels-idx1-ubyte.gz\n",
      "Extracting MNIST_data/t10k-images-idx3-ubyte.gz\n",
      "Extracting MNIST_data/t10k-labels-idx1-ubyte.gz\n",
      "WARNING:tensorflow:Passing a `GraphDef` to the SummaryWriter is deprecated. Pass a `Graph` object instead, such as `sess.graph`.\n",
      "WARNING:tensorflow:From /usr/local/lib/python2.7/dist-packages/tensorflow/python/util/tf_should_use.py:170: initialize_all_variables (from tensorflow.python.ops.variables) is deprecated and will be removed after 2017-03-02.\n",
      "Instructions for updating:\n",
      "Use `tf.global_variables_initializer` instead.\n",
      "Validation Error: 0.168600022793\n",
      "Validation Error: 0.0759999752045\n",
      "Validation Error: 0.0738000273705\n",
      "Validation Error: 0.071799993515\n",
      "Validation Error: 0.0708000063896\n",
      "Validation Error: 0.0702000260353\n",
      "Validation Error: 0.0702000260353\n",
      "Validation Error: 0.0695999860764\n",
      "Validation Error: 0.0694000124931\n",
      "Validation Error: 0.0699999928474\n",
      "---OPTIMIZATION COMPLETE---\n",
      "Test Accuracy: 0.926299989223\n"
     ]
    }
   ],
   "source": [
    "# sudo pip install python-mnist\n",
    "import mnist\n",
    "from tensorflow.examples.tutorials.mnist import input_data\n",
    "mnist = input_data.read_data_sets(\"MNIST_data/\", one_hot=True)\n",
    "tf.reset_default_graph()\n",
    "##### PARAMETERS ####\n",
    "learning_rate= 0.01\n",
    "training_epochs=1000\n",
    "batch_size=100\n",
    "display_step=100\n",
    "#####################\n",
    "with tf.Graph().as_default():\n",
    "    # mnist data image shape 28*28=784\n",
    "    x=tf.placeholder(\"float\",[None,784])\n",
    "    # 0-9 digits recognition >=10 classes\n",
    "    y=tf.placeholder(\"float\",[None,10])\n",
    "    \n",
    "    output=inference(x)\n",
    "    cost = loss(output,y)\n",
    "    global_step= tf.Variable(0,name='global_step',trainable=False)\n",
    "    train_op = training(cost,global_step)\n",
    "    eval_op = evaluate(output,y)\n",
    "    summary_op = tf.summary.merge_all()\n",
    "    saver = tf.train.Saver()\n",
    "    sess=tf.Session()\n",
    "    summary_writer=tf.summary.FileWriter(\"logistic_logs/\",graph_def=sess.graph_def)\n",
    "    init_op = tf.initialize_all_variables()\n",
    "    sess.run(init_op)\n",
    "    #### TRAINING CYCLE ####\n",
    "    for epoch in range(training_epochs):\n",
    "        avg_cost=0.\n",
    "        total_batch=int(mnist.train.num_examples/batch_size)\n",
    "        # Loop over all batches\n",
    "        for i in range(total_batch):\n",
    "            mbatch_x,mbatch_y= mnist.train.next_batch(batch_size)\n",
    "            # Fit training with batch\n",
    "            feed_dict = {x:mbatch_x,y:mbatch_y}\n",
    "            sess.run(train_op,feed_dict=feed_dict)\n",
    "            # Compute average loss\n",
    "            minibatch_cost = sess.run(cost,feed_dict=feed_dict)\n",
    "            avg_cost += minibatch_cost/total_batch\n",
    "        # Display logs per epoch step\n",
    "        if epoch % display_step == 0:\n",
    "                val_feed_dict = {\n",
    "                            x: mnist.validation.images,\n",
    "                            y: mnist.validation.labels\n",
    "                }\n",
    "                accuracy = sess.run(eval_op,feed_dict=val_feed_dict)\n",
    "                print \"Validation Error:\", (1-accuracy)\n",
    "                summary_str = sess.run(summary_op,feed_dict=feed_dict)\n",
    "                summary_writer.add_summary(summary_str,sess.run(global_step))\n",
    "                saver.save(sess,\"logistic_logs/model-checkpoint\",global_step=global_step)\n",
    "                summary_writer.flush()\n",
    "    print \"---OPTIMIZATION COMPLETE---\"\n",
    "    test_feed_dict= {\n",
    "        x:mnist.test.images,\n",
    "        y:mnist.test.labels\n",
    "    }\n",
    "    accuracy = sess.run(eval_op,feed_dict=test_feed_dict)\n",
    "    print \"Test Accuracy: {}\".format(accuracy)\n",
    "    ########################"
   ]
  },
  {
   "cell_type": "code",
   "execution_count": null,
   "metadata": {
    "collapsed": true
   },
   "outputs": [],
   "source": []
  }
 ],
 "metadata": {
  "kernelspec": {
   "display_name": "Python 2",
   "language": "python",
   "name": "python2"
  },
  "language_info": {
   "codemirror_mode": {
    "name": "ipython",
    "version": 2
   },
   "file_extension": ".py",
   "mimetype": "text/x-python",
   "name": "python",
   "nbconvert_exporter": "python",
   "pygments_lexer": "ipython2",
   "version": "2.7.13"
  }
 },
 "nbformat": 4,
 "nbformat_minor": 2
}
